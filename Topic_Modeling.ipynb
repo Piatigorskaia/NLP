{
  "nbformat": 4,
  "nbformat_minor": 0,
  "metadata": {
    "colab": {
      "provenance": []
    },
    "kernelspec": {
      "name": "python3",
      "display_name": "Python 3"
    },
    "language_info": {
      "name": "python"
    }
  },
  "cells": [
    {
      "cell_type": "markdown",
      "source": [
        "First, I will perform text preprocessing on the bank reviews."
      ],
      "metadata": {
        "id": "OkBRc8K3Soe6"
      }
    },
    {
      "cell_type": "code",
      "execution_count": null,
      "metadata": {
        "id": "aqluU39qrNaj"
      },
      "outputs": [],
      "source": [
        "import json\n",
        "import bz2\n",
        "import regex\n",
        "from tqdm import tqdm\n",
        "from scipy import sparse"
      ]
    },
    {
      "cell_type": "code",
      "source": [
        "import pandas as pd\n",
        "import numpy as np\n",
        "import nltk\n",
        "import matplotlib.pyplot as plt\n",
        "import seaborn as sns\n",
        "%matplotlib inline\n",
        "%pylab inline"
      ],
      "metadata": {
        "colab": {
          "base_uri": "https://localhost:8080/"
        },
        "id": "otWdeOMHtZ2l",
        "outputId": "fdd5bb77-48ef-4f36-bdba-511f8f68c5c7"
      },
      "execution_count": null,
      "outputs": [
        {
          "output_type": "stream",
          "name": "stdout",
          "text": [
            "Populating the interactive namespace from numpy and matplotlib\n"
          ]
        }
      ]
    },
    {
      "cell_type": "code",
      "source": [
        "responses = []\n",
        "with bz2.BZ2File('banki_responses.json.bz2', 'r') as thefile:\n",
        "    for row in tqdm(thefile):\n",
        "        resp = json.loads(row)\n",
        "        if not resp['rating_not_checked'] and (len(resp['text'].split()) > 0):\n",
        "            responses.append(resp)"
      ],
      "metadata": {
        "colab": {
          "base_uri": "https://localhost:8080/"
        },
        "id": "InMsVSlBtdGu",
        "outputId": "39aa3395-1dba-49f7-ecd7-c087e91f96e7"
      },
      "execution_count": null,
      "outputs": [
        {
          "output_type": "stream",
          "name": "stderr",
          "text": [
            "201030it [02:14, 1492.21it/s]\n"
          ]
        }
      ]
    },
    {
      "cell_type": "code",
      "source": [
        "responses[99]"
      ],
      "metadata": {
        "colab": {
          "base_uri": "https://localhost:8080/"
        },
        "id": "6svyr-vpt2-z",
        "outputId": "32acd5dc-853f-46ff-c0cd-e52d7a83276f"
      },
      "execution_count": null,
      "outputs": [
        {
          "output_type": "execute_result",
          "data": {
            "text/plain": [
              "{'city': 'г. Саратов',\n",
              " 'rating_not_checked': False,\n",
              " 'title': 'Карта ко вкладу',\n",
              " 'num_comments': 0,\n",
              " 'bank_license': 'лицензия № 880',\n",
              " 'author': 'ronnichka',\n",
              " 'bank_name': 'Югра',\n",
              " 'datetime': '2015-06-03 20:56:57',\n",
              " 'text': 'Здравствуйте! Хотела написать, что мне месяц не выдают карту ко вкладу, ссылаясь на \"нам же их из Самары везут\" (на секундочку 5 часов езды от нашего города). Но! Прочитала, что людям 3,5 месяцев не выдают карту, и поняла, что у меня все хорошо, пока что. И подарок мне дали, и кулер в отделении есть. Так что я, конечно, готова ждать. Правда хотелось бы не очень долго.',\n",
              " 'rating_grade': 3}"
            ]
          },
          "metadata": {},
          "execution_count": 4
        }
      ]
    },
    {
      "cell_type": "code",
      "source": [
        "df = pd.json_normalize(responses)[['city', 'bank_name', 'author', 'datetime', 'rating_grade', 'title', 'text', 'bank_license', 'num_comments', 'rating_not_checked']]"
      ],
      "metadata": {
        "id": "mHpyklGpt58U"
      },
      "execution_count": null,
      "outputs": []
    },
    {
      "cell_type": "code",
      "source": [
        "df.head()"
      ],
      "metadata": {
        "colab": {
          "base_uri": "https://localhost:8080/",
          "height": 501
        },
        "id": "YRS4lYGmt8Mm",
        "outputId": "d06a0c29-168a-4ed3-96b4-605733c7a935"
      },
      "execution_count": null,
      "outputs": [
        {
          "output_type": "execute_result",
          "data": {
            "text/plain": [
              "             city        bank_name       author             datetime  \\\n",
              "0       г. Москва          Бинбанк       uhnov1  2015-06-08 12:50:54   \n",
              "1  г. Новосибирск  Сбербанк России       Foryou  2015-06-08 11:09:57   \n",
              "2       г. Москва          Бинбанк   Vladimir84  2015-06-05 20:14:28   \n",
              "3   г. Ставрополь  Сбербанк России       643609  2015-06-05 13:51:01   \n",
              "4    г. Челябинск         ОТП Банк  anfisa-2003  2015-06-05 10:58:12   \n",
              "\n",
              "   rating_grade                                              title  \\\n",
              "0           NaN                                             Жалоба   \n",
              "1           NaN      Не могу пользоваться услугой Сбербанк он-лайн   \n",
              "2           NaN                    Двойное списание за один товар.   \n",
              "3           NaN  Меняют проценты комиссии  не предупредив и не ...   \n",
              "4           NaN             Верните денежные средства за страховку   \n",
              "\n",
              "                                                text     bank_license  \\\n",
              "0  Добрый день! Я не являюсь клиентом банка и пор...  лицензия № 2562   \n",
              "1  Доброго дня! Являюсь держателем зарплатной кар...  лицензия № 1481   \n",
              "2  Здравствуйте!  Дублирую свое заявление от 03.0...  лицензия № 2562   \n",
              "3  Добрый день!! Я открыл расчетный счет в СберБа...  лицензия № 1481   \n",
              "4  04.03.2015 г. взяла кредит в вашем банке, заяв...  лицензия № 2766   \n",
              "\n",
              "   num_comments  rating_not_checked  \n",
              "0             0               False  \n",
              "1             0               False  \n",
              "2             1               False  \n",
              "3             2               False  \n",
              "4             1               False  "
            ],
            "text/html": [
              "\n",
              "  <div id=\"df-8c875801-4e1f-4ff3-90b3-e4f7d76f4704\" class=\"colab-df-container\">\n",
              "    <div>\n",
              "<style scoped>\n",
              "    .dataframe tbody tr th:only-of-type {\n",
              "        vertical-align: middle;\n",
              "    }\n",
              "\n",
              "    .dataframe tbody tr th {\n",
              "        vertical-align: top;\n",
              "    }\n",
              "\n",
              "    .dataframe thead th {\n",
              "        text-align: right;\n",
              "    }\n",
              "</style>\n",
              "<table border=\"1\" class=\"dataframe\">\n",
              "  <thead>\n",
              "    <tr style=\"text-align: right;\">\n",
              "      <th></th>\n",
              "      <th>city</th>\n",
              "      <th>bank_name</th>\n",
              "      <th>author</th>\n",
              "      <th>datetime</th>\n",
              "      <th>rating_grade</th>\n",
              "      <th>title</th>\n",
              "      <th>text</th>\n",
              "      <th>bank_license</th>\n",
              "      <th>num_comments</th>\n",
              "      <th>rating_not_checked</th>\n",
              "    </tr>\n",
              "  </thead>\n",
              "  <tbody>\n",
              "    <tr>\n",
              "      <th>0</th>\n",
              "      <td>г. Москва</td>\n",
              "      <td>Бинбанк</td>\n",
              "      <td>uhnov1</td>\n",
              "      <td>2015-06-08 12:50:54</td>\n",
              "      <td>NaN</td>\n",
              "      <td>Жалоба</td>\n",
              "      <td>Добрый день! Я не являюсь клиентом банка и пор...</td>\n",
              "      <td>лицензия № 2562</td>\n",
              "      <td>0</td>\n",
              "      <td>False</td>\n",
              "    </tr>\n",
              "    <tr>\n",
              "      <th>1</th>\n",
              "      <td>г. Новосибирск</td>\n",
              "      <td>Сбербанк России</td>\n",
              "      <td>Foryou</td>\n",
              "      <td>2015-06-08 11:09:57</td>\n",
              "      <td>NaN</td>\n",
              "      <td>Не могу пользоваться услугой Сбербанк он-лайн</td>\n",
              "      <td>Доброго дня! Являюсь держателем зарплатной кар...</td>\n",
              "      <td>лицензия № 1481</td>\n",
              "      <td>0</td>\n",
              "      <td>False</td>\n",
              "    </tr>\n",
              "    <tr>\n",
              "      <th>2</th>\n",
              "      <td>г. Москва</td>\n",
              "      <td>Бинбанк</td>\n",
              "      <td>Vladimir84</td>\n",
              "      <td>2015-06-05 20:14:28</td>\n",
              "      <td>NaN</td>\n",
              "      <td>Двойное списание за один товар.</td>\n",
              "      <td>Здравствуйте!  Дублирую свое заявление от 03.0...</td>\n",
              "      <td>лицензия № 2562</td>\n",
              "      <td>1</td>\n",
              "      <td>False</td>\n",
              "    </tr>\n",
              "    <tr>\n",
              "      <th>3</th>\n",
              "      <td>г. Ставрополь</td>\n",
              "      <td>Сбербанк России</td>\n",
              "      <td>643609</td>\n",
              "      <td>2015-06-05 13:51:01</td>\n",
              "      <td>NaN</td>\n",
              "      <td>Меняют проценты комиссии  не предупредив и не ...</td>\n",
              "      <td>Добрый день!! Я открыл расчетный счет в СберБа...</td>\n",
              "      <td>лицензия № 1481</td>\n",
              "      <td>2</td>\n",
              "      <td>False</td>\n",
              "    </tr>\n",
              "    <tr>\n",
              "      <th>4</th>\n",
              "      <td>г. Челябинск</td>\n",
              "      <td>ОТП Банк</td>\n",
              "      <td>anfisa-2003</td>\n",
              "      <td>2015-06-05 10:58:12</td>\n",
              "      <td>NaN</td>\n",
              "      <td>Верните денежные средства за страховку</td>\n",
              "      <td>04.03.2015 г. взяла кредит в вашем банке, заяв...</td>\n",
              "      <td>лицензия № 2766</td>\n",
              "      <td>1</td>\n",
              "      <td>False</td>\n",
              "    </tr>\n",
              "  </tbody>\n",
              "</table>\n",
              "</div>\n",
              "    <div class=\"colab-df-buttons\">\n",
              "\n",
              "  <div class=\"colab-df-container\">\n",
              "    <button class=\"colab-df-convert\" onclick=\"convertToInteractive('df-8c875801-4e1f-4ff3-90b3-e4f7d76f4704')\"\n",
              "            title=\"Convert this dataframe to an interactive table.\"\n",
              "            style=\"display:none;\">\n",
              "\n",
              "  <svg xmlns=\"http://www.w3.org/2000/svg\" height=\"24px\" viewBox=\"0 -960 960 960\">\n",
              "    <path d=\"M120-120v-720h720v720H120Zm60-500h600v-160H180v160Zm220 220h160v-160H400v160Zm0 220h160v-160H400v160ZM180-400h160v-160H180v160Zm440 0h160v-160H620v160ZM180-180h160v-160H180v160Zm440 0h160v-160H620v160Z\"/>\n",
              "  </svg>\n",
              "    </button>\n",
              "\n",
              "  <style>\n",
              "    .colab-df-container {\n",
              "      display:flex;\n",
              "      gap: 12px;\n",
              "    }\n",
              "\n",
              "    .colab-df-convert {\n",
              "      background-color: #E8F0FE;\n",
              "      border: none;\n",
              "      border-radius: 50%;\n",
              "      cursor: pointer;\n",
              "      display: none;\n",
              "      fill: #1967D2;\n",
              "      height: 32px;\n",
              "      padding: 0 0 0 0;\n",
              "      width: 32px;\n",
              "    }\n",
              "\n",
              "    .colab-df-convert:hover {\n",
              "      background-color: #E2EBFA;\n",
              "      box-shadow: 0px 1px 2px rgba(60, 64, 67, 0.3), 0px 1px 3px 1px rgba(60, 64, 67, 0.15);\n",
              "      fill: #174EA6;\n",
              "    }\n",
              "\n",
              "    .colab-df-buttons div {\n",
              "      margin-bottom: 4px;\n",
              "    }\n",
              "\n",
              "    [theme=dark] .colab-df-convert {\n",
              "      background-color: #3B4455;\n",
              "      fill: #D2E3FC;\n",
              "    }\n",
              "\n",
              "    [theme=dark] .colab-df-convert:hover {\n",
              "      background-color: #434B5C;\n",
              "      box-shadow: 0px 1px 3px 1px rgba(0, 0, 0, 0.15);\n",
              "      filter: drop-shadow(0px 1px 2px rgba(0, 0, 0, 0.3));\n",
              "      fill: #FFFFFF;\n",
              "    }\n",
              "  </style>\n",
              "\n",
              "    <script>\n",
              "      const buttonEl =\n",
              "        document.querySelector('#df-8c875801-4e1f-4ff3-90b3-e4f7d76f4704 button.colab-df-convert');\n",
              "      buttonEl.style.display =\n",
              "        google.colab.kernel.accessAllowed ? 'block' : 'none';\n",
              "\n",
              "      async function convertToInteractive(key) {\n",
              "        const element = document.querySelector('#df-8c875801-4e1f-4ff3-90b3-e4f7d76f4704');\n",
              "        const dataTable =\n",
              "          await google.colab.kernel.invokeFunction('convertToInteractive',\n",
              "                                                    [key], {});\n",
              "        if (!dataTable) return;\n",
              "\n",
              "        const docLinkHtml = 'Like what you see? Visit the ' +\n",
              "          '<a target=\"_blank\" href=https://colab.research.google.com/notebooks/data_table.ipynb>data table notebook</a>'\n",
              "          + ' to learn more about interactive tables.';\n",
              "        element.innerHTML = '';\n",
              "        dataTable['output_type'] = 'display_data';\n",
              "        await google.colab.output.renderOutput(dataTable, element);\n",
              "        const docLink = document.createElement('div');\n",
              "        docLink.innerHTML = docLinkHtml;\n",
              "        element.appendChild(docLink);\n",
              "      }\n",
              "    </script>\n",
              "  </div>\n",
              "\n",
              "\n",
              "<div id=\"df-0a27e521-d8b3-408b-9cfa-b5d660bfbfed\">\n",
              "  <button class=\"colab-df-quickchart\" onclick=\"quickchart('df-0a27e521-d8b3-408b-9cfa-b5d660bfbfed')\"\n",
              "            title=\"Suggest charts\"\n",
              "            style=\"display:none;\">\n",
              "\n",
              "<svg xmlns=\"http://www.w3.org/2000/svg\" height=\"24px\"viewBox=\"0 0 24 24\"\n",
              "     width=\"24px\">\n",
              "    <g>\n",
              "        <path d=\"M19 3H5c-1.1 0-2 .9-2 2v14c0 1.1.9 2 2 2h14c1.1 0 2-.9 2-2V5c0-1.1-.9-2-2-2zM9 17H7v-7h2v7zm4 0h-2V7h2v10zm4 0h-2v-4h2v4z\"/>\n",
              "    </g>\n",
              "</svg>\n",
              "  </button>\n",
              "\n",
              "<style>\n",
              "  .colab-df-quickchart {\n",
              "      --bg-color: #E8F0FE;\n",
              "      --fill-color: #1967D2;\n",
              "      --hover-bg-color: #E2EBFA;\n",
              "      --hover-fill-color: #174EA6;\n",
              "      --disabled-fill-color: #AAA;\n",
              "      --disabled-bg-color: #DDD;\n",
              "  }\n",
              "\n",
              "  [theme=dark] .colab-df-quickchart {\n",
              "      --bg-color: #3B4455;\n",
              "      --fill-color: #D2E3FC;\n",
              "      --hover-bg-color: #434B5C;\n",
              "      --hover-fill-color: #FFFFFF;\n",
              "      --disabled-bg-color: #3B4455;\n",
              "      --disabled-fill-color: #666;\n",
              "  }\n",
              "\n",
              "  .colab-df-quickchart {\n",
              "    background-color: var(--bg-color);\n",
              "    border: none;\n",
              "    border-radius: 50%;\n",
              "    cursor: pointer;\n",
              "    display: none;\n",
              "    fill: var(--fill-color);\n",
              "    height: 32px;\n",
              "    padding: 0;\n",
              "    width: 32px;\n",
              "  }\n",
              "\n",
              "  .colab-df-quickchart:hover {\n",
              "    background-color: var(--hover-bg-color);\n",
              "    box-shadow: 0 1px 2px rgba(60, 64, 67, 0.3), 0 1px 3px 1px rgba(60, 64, 67, 0.15);\n",
              "    fill: var(--button-hover-fill-color);\n",
              "  }\n",
              "\n",
              "  .colab-df-quickchart-complete:disabled,\n",
              "  .colab-df-quickchart-complete:disabled:hover {\n",
              "    background-color: var(--disabled-bg-color);\n",
              "    fill: var(--disabled-fill-color);\n",
              "    box-shadow: none;\n",
              "  }\n",
              "\n",
              "  .colab-df-spinner {\n",
              "    border: 2px solid var(--fill-color);\n",
              "    border-color: transparent;\n",
              "    border-bottom-color: var(--fill-color);\n",
              "    animation:\n",
              "      spin 1s steps(1) infinite;\n",
              "  }\n",
              "\n",
              "  @keyframes spin {\n",
              "    0% {\n",
              "      border-color: transparent;\n",
              "      border-bottom-color: var(--fill-color);\n",
              "      border-left-color: var(--fill-color);\n",
              "    }\n",
              "    20% {\n",
              "      border-color: transparent;\n",
              "      border-left-color: var(--fill-color);\n",
              "      border-top-color: var(--fill-color);\n",
              "    }\n",
              "    30% {\n",
              "      border-color: transparent;\n",
              "      border-left-color: var(--fill-color);\n",
              "      border-top-color: var(--fill-color);\n",
              "      border-right-color: var(--fill-color);\n",
              "    }\n",
              "    40% {\n",
              "      border-color: transparent;\n",
              "      border-right-color: var(--fill-color);\n",
              "      border-top-color: var(--fill-color);\n",
              "    }\n",
              "    60% {\n",
              "      border-color: transparent;\n",
              "      border-right-color: var(--fill-color);\n",
              "    }\n",
              "    80% {\n",
              "      border-color: transparent;\n",
              "      border-right-color: var(--fill-color);\n",
              "      border-bottom-color: var(--fill-color);\n",
              "    }\n",
              "    90% {\n",
              "      border-color: transparent;\n",
              "      border-bottom-color: var(--fill-color);\n",
              "    }\n",
              "  }\n",
              "</style>\n",
              "\n",
              "  <script>\n",
              "    async function quickchart(key) {\n",
              "      const quickchartButtonEl =\n",
              "        document.querySelector('#' + key + ' button');\n",
              "      quickchartButtonEl.disabled = true;  // To prevent multiple clicks.\n",
              "      quickchartButtonEl.classList.add('colab-df-spinner');\n",
              "      try {\n",
              "        const charts = await google.colab.kernel.invokeFunction(\n",
              "            'suggestCharts', [key], {});\n",
              "      } catch (error) {\n",
              "        console.error('Error during call to suggestCharts:', error);\n",
              "      }\n",
              "      quickchartButtonEl.classList.remove('colab-df-spinner');\n",
              "      quickchartButtonEl.classList.add('colab-df-quickchart-complete');\n",
              "    }\n",
              "    (() => {\n",
              "      let quickchartButtonEl =\n",
              "        document.querySelector('#df-0a27e521-d8b3-408b-9cfa-b5d660bfbfed button');\n",
              "      quickchartButtonEl.style.display =\n",
              "        google.colab.kernel.accessAllowed ? 'block' : 'none';\n",
              "    })();\n",
              "  </script>\n",
              "</div>\n",
              "\n",
              "    </div>\n",
              "  </div>\n"
            ],
            "application/vnd.google.colaboratory.intrinsic+json": {
              "type": "dataframe",
              "variable_name": "df"
            }
          },
          "metadata": {},
          "execution_count": 6
        }
      ]
    },
    {
      "cell_type": "code",
      "source": [
        "df.info()"
      ],
      "metadata": {
        "colab": {
          "base_uri": "https://localhost:8080/"
        },
        "id": "Nw5pRc_Bt_TB",
        "outputId": "a76012f5-c825-4333-b65f-5cf75ad0be6d"
      },
      "execution_count": null,
      "outputs": [
        {
          "output_type": "stream",
          "name": "stdout",
          "text": [
            "<class 'pandas.core.frame.DataFrame'>\n",
            "RangeIndex: 153499 entries, 0 to 153498\n",
            "Data columns (total 10 columns):\n",
            " #   Column              Non-Null Count   Dtype  \n",
            "---  ------              --------------   -----  \n",
            " 0   city                138325 non-null  object \n",
            " 1   bank_name           153499 non-null  object \n",
            " 2   author              153479 non-null  object \n",
            " 3   datetime            153499 non-null  object \n",
            " 4   rating_grade        88658 non-null   float64\n",
            " 5   title               153499 non-null  object \n",
            " 6   text                153499 non-null  object \n",
            " 7   bank_license        153498 non-null  object \n",
            " 8   num_comments        153499 non-null  int64  \n",
            " 9   rating_not_checked  153499 non-null  bool   \n",
            "dtypes: bool(1), float64(1), int64(1), object(7)\n",
            "memory usage: 10.7+ MB\n"
          ]
        }
      ]
    },
    {
      "cell_type": "code",
      "source": [
        "from collections import Counter\n",
        "import nltk\n",
        "from nltk.corpus import stopwords\n",
        "from nltk.tokenize import word_tokenize\n",
        "from nltk.stem import WordNetLemmatizer\n",
        "from string import punctuation"
      ],
      "metadata": {
        "id": "T_Og0dQMu_VO"
      },
      "execution_count": null,
      "outputs": []
    },
    {
      "cell_type": "code",
      "source": [
        "nltk.download('punkt')\n",
        "nltk.download('stopwords')\n",
        "nltk.download('wordnet')"
      ],
      "metadata": {
        "colab": {
          "base_uri": "https://localhost:8080/"
        },
        "id": "GHUaDlSVvC96",
        "outputId": "5bf89261-1491-4528-e9aa-6c2275240336"
      },
      "execution_count": null,
      "outputs": [
        {
          "output_type": "stream",
          "name": "stderr",
          "text": [
            "[nltk_data] Downloading package punkt to /root/nltk_data...\n",
            "[nltk_data]   Package punkt is already up-to-date!\n",
            "[nltk_data] Downloading package stopwords to /root/nltk_data...\n",
            "[nltk_data]   Package stopwords is already up-to-date!\n",
            "[nltk_data] Downloading package wordnet to /root/nltk_data...\n",
            "[nltk_data]   Package wordnet is already up-to-date!\n"
          ]
        },
        {
          "output_type": "execute_result",
          "data": {
            "text/plain": [
              "True"
            ]
          },
          "metadata": {},
          "execution_count": 9
        }
      ]
    },
    {
      "cell_type": "code",
      "source": [
        "stop_words = set(stopwords.words('russian'))\n",
        "lemmatizer = WordNetLemmatizer()"
      ],
      "metadata": {
        "id": "jWzH3TAlvFDl"
      },
      "execution_count": null,
      "outputs": []
    },
    {
      "cell_type": "code",
      "source": [
        "def preprocess_text(text):\n",
        "    if isinstance(text, str):\n",
        "        text = re.sub(r'\\S*https?:\\S*', '', text)\n",
        "        text = re.sub(r'[^a-zA-Zа-яА-Я]', ' ', text)\n",
        "        text = text.lower()\n",
        "        text = text.translate(str.maketrans('', '', punctuation))\n",
        "        tokens = word_tokenize(text)\n",
        "        tokens = [lemmatizer.lemmatize(word) for word in tokens if word not in stop_words]\n",
        "        return ' '.join(tokens)\n",
        "    else:\n",
        "        return ''"
      ],
      "metadata": {
        "id": "gMQBSJYUvHdl"
      },
      "execution_count": null,
      "outputs": []
    },
    {
      "cell_type": "code",
      "source": [
        "df['processed_text'] = df['text'][:10000].apply(preprocess_text)"
      ],
      "metadata": {
        "id": "5yS8k-mmvLC1"
      },
      "execution_count": null,
      "outputs": []
    },
    {
      "cell_type": "code",
      "source": [
        "print(df['processed_text'].apply(type).value_counts())"
      ],
      "metadata": {
        "colab": {
          "base_uri": "https://localhost:8080/"
        },
        "id": "rkL0ICaSvV9V",
        "outputId": "4d1aac9d-1ec7-4bff-fa76-94bc7bfebb45"
      },
      "execution_count": null,
      "outputs": [
        {
          "output_type": "stream",
          "name": "stdout",
          "text": [
            "processed_text\n",
            "<class 'float'>    143499\n",
            "<class 'str'>       10000\n",
            "Name: count, dtype: int64\n"
          ]
        }
      ]
    },
    {
      "cell_type": "code",
      "source": [
        "df = df[df['processed_text'].apply(lambda x: isinstance(x, str))]"
      ],
      "metadata": {
        "id": "j6HF2c_4zwxa"
      },
      "execution_count": null,
      "outputs": []
    },
    {
      "cell_type": "markdown",
      "source": [
        "I will build several topic models for the document collection with different numbers of topics and identify those where specific banks are mentioned."
      ],
      "metadata": {
        "id": "AypmTgxR3zyD"
      }
    },
    {
      "cell_type": "code",
      "source": [
        "from gensim.corpora import Dictionary\n",
        "from gensim.models import TfidfModel\n",
        "from gensim import similarities"
      ],
      "metadata": {
        "id": "RHOJmlk80DKR"
      },
      "execution_count": null,
      "outputs": []
    },
    {
      "cell_type": "code",
      "source": [
        "texts = [text.split() for text in df['processed_text']]"
      ],
      "metadata": {
        "id": "bDb7NA3bvbPh"
      },
      "execution_count": null,
      "outputs": []
    },
    {
      "cell_type": "code",
      "source": [
        "dictionary = Dictionary(texts)"
      ],
      "metadata": {
        "id": "LKjooB3-vePr"
      },
      "execution_count": null,
      "outputs": []
    },
    {
      "cell_type": "code",
      "source": [
        "corpus = [dictionary.doc2bow(text) for text in texts]"
      ],
      "metadata": {
        "id": "W86xJGUS0IwW"
      },
      "execution_count": null,
      "outputs": []
    },
    {
      "cell_type": "code",
      "source": [
        "len(corpus)"
      ],
      "metadata": {
        "colab": {
          "base_uri": "https://localhost:8080/"
        },
        "id": "9t8HPhwi1ivA",
        "outputId": "cfa9a30a-821d-416c-cd4b-412734ab5867"
      },
      "execution_count": null,
      "outputs": [
        {
          "output_type": "execute_result",
          "data": {
            "text/plain": [
              "10000"
            ]
          },
          "metadata": {},
          "execution_count": 19
        }
      ]
    },
    {
      "cell_type": "code",
      "source": [
        "tfidf = TfidfModel(corpus)\n",
        "corpus_tfidf = tfidf[corpus]"
      ],
      "metadata": {
        "id": "faGF6lVy0NBW"
      },
      "execution_count": null,
      "outputs": []
    },
    {
      "cell_type": "code",
      "source": [
        "corpus_tfidf"
      ],
      "metadata": {
        "colab": {
          "base_uri": "https://localhost:8080/"
        },
        "id": "-TJBgbrd0Q4I",
        "outputId": "1275457c-1084-4975-aa01-63750e748eab"
      },
      "execution_count": null,
      "outputs": [
        {
          "output_type": "execute_result",
          "data": {
            "text/plain": [
              "<gensim.interfaces.TransformedCorpus at 0x7a02de100610>"
            ]
          },
          "metadata": {},
          "execution_count": 21
        }
      ]
    },
    {
      "cell_type": "code",
      "source": [
        "index = similarities.MatrixSimilarity(corpus_tfidf)\n",
        "sims = index[corpus_tfidf]"
      ],
      "metadata": {
        "colab": {
          "base_uri": "https://localhost:8080/"
        },
        "id": "n0K2t3PY0WEi",
        "outputId": "9ff64b82-cdc3-453a-b46a-78f9079e2c1b"
      },
      "execution_count": null,
      "outputs": [
        {
          "output_type": "stream",
          "name": "stderr",
          "text": [
            "WARNING:gensim.similarities.docsim:scanning corpus to determine the number of features (consider setting `num_features` explicitly)\n"
          ]
        }
      ]
    },
    {
      "cell_type": "code",
      "source": [
        "from gensim.models import lsimodel"
      ],
      "metadata": {
        "id": "7Wt_VQZt2408"
      },
      "execution_count": null,
      "outputs": []
    },
    {
      "cell_type": "code",
      "source": [
        "lsi = lsimodel.LsiModel(corpus=corpus_tfidf, id2word=dictionary, num_topics=5)"
      ],
      "metadata": {
        "id": "EiWwYW5S28MB"
      },
      "execution_count": null,
      "outputs": []
    },
    {
      "cell_type": "code",
      "source": [
        "lsi.show_topics()"
      ],
      "metadata": {
        "colab": {
          "base_uri": "https://localhost:8080/"
        },
        "id": "w7Hk5GXj3CmJ",
        "outputId": "3d29bc8e-4d52-42df-a212-93278577d88b"
      },
      "execution_count": null,
      "outputs": [
        {
          "output_type": "execute_result",
          "data": {
            "text/plain": [
              "[(0,\n",
              "  '0.118*\"деньги\" + 0.114*\"карты\" + 0.112*\"карту\" + 0.102*\"кредит\" + 0.099*\"г\" + 0.099*\"банк\" + 0.095*\"заявление\" + 0.094*\"банка\" + 0.091*\"это\" + 0.090*\"руб\"'),\n",
              " (1,\n",
              "  '-0.310*\"звонки\" + -0.236*\"номер\" + -0.190*\"данных\" + -0.182*\"персональных\" + -0.180*\"телефона\" + -0.173*\"поступают\" + -0.166*\"базы\" + -0.155*\"удалить\" + -0.147*\"обработку\" + -0.143*\"согласия\"'),\n",
              " (2,\n",
              "  '-0.270*\"кредит\" + -0.238*\"кредита\" + 0.188*\"карты\" + -0.177*\"страхования\" + 0.173*\"карту\" + -0.162*\"страховки\" + -0.146*\"договор\" + 0.145*\"деньги\" + -0.141*\"договора\" + 0.137*\"банкомат\"'),\n",
              " (3,\n",
              "  '0.352*\"вклад\" + 0.321*\"вклада\" + -0.180*\"руб\" + -0.127*\"рублей\" + -0.110*\"банкомат\" + -0.108*\"г\" + -0.103*\"заявление\" + -0.100*\"средства\" + 0.100*\"очереди\" + -0.095*\"сбербанка\"'),\n",
              " (4,\n",
              "  '-0.278*\"вклада\" + -0.177*\"вклад\" + -0.160*\"г\" + -0.156*\"рф\" + -0.145*\"договора\" + -0.143*\"средств\" + -0.125*\"денежных\" + -0.122*\"средства\" + -0.107*\"денежные\" + -0.106*\"персональных\"')]"
            ]
          },
          "metadata": {},
          "execution_count": 25
        }
      ]
    },
    {
      "cell_type": "code",
      "source": [
        "lsi = lsimodel.LsiModel(corpus=corpus_tfidf, id2word=dictionary, num_topics=10)"
      ],
      "metadata": {
        "id": "2wogTiMP3HdT"
      },
      "execution_count": null,
      "outputs": []
    },
    {
      "cell_type": "code",
      "source": [
        "lsi.show_topics()"
      ],
      "metadata": {
        "colab": {
          "base_uri": "https://localhost:8080/"
        },
        "id": "ZG-ePV9J3Ot7",
        "outputId": "5676c1df-5497-4b79-a881-aed6bdb01a14"
      },
      "execution_count": null,
      "outputs": [
        {
          "output_type": "execute_result",
          "data": {
            "text/plain": [
              "[(0,\n",
              "  '0.118*\"деньги\" + 0.114*\"карты\" + 0.112*\"карту\" + 0.102*\"кредит\" + 0.099*\"г\" + 0.099*\"банк\" + 0.095*\"заявление\" + 0.094*\"банка\" + 0.091*\"это\" + 0.090*\"руб\"'),\n",
              " (1,\n",
              "  '-0.310*\"звонки\" + -0.236*\"номер\" + -0.189*\"данных\" + -0.181*\"персональных\" + -0.180*\"телефона\" + -0.173*\"поступают\" + -0.166*\"базы\" + -0.155*\"удалить\" + -0.147*\"обработку\" + -0.143*\"согласия\"'),\n",
              " (2,\n",
              "  '0.272*\"кредит\" + 0.242*\"кредита\" + -0.187*\"карты\" + 0.174*\"страхования\" + -0.170*\"карту\" + 0.162*\"страховки\" + 0.145*\"договор\" + -0.145*\"деньги\" + 0.141*\"договора\" + -0.136*\"банкомат\"'),\n",
              " (3,\n",
              "  '0.354*\"вклад\" + 0.319*\"вклада\" + -0.176*\"руб\" + -0.127*\"рублей\" + -0.109*\"банкомат\" + -0.109*\"г\" + -0.102*\"средства\" + 0.100*\"очереди\" + -0.100*\"заявление\" + -0.094*\"сбербанка\"'),\n",
              " (4,\n",
              "  '-0.278*\"вклада\" + -0.178*\"вклад\" + -0.157*\"рф\" + -0.155*\"г\" + -0.144*\"договора\" + -0.143*\"средств\" + -0.125*\"денежных\" + -0.120*\"средства\" + -0.106*\"персональных\" + -0.105*\"денежные\"'),\n",
              " (5,\n",
              "  '0.180*\"р\" + 0.174*\"обязательствам\" + 0.148*\"страховки\" + 0.141*\"обработку\" + 0.141*\"кредит\" + 0.136*\"копия\" + 0.134*\"направлена\" + 0.127*\"вернуть\" + 0.122*\"удалить\" + 0.122*\"карту\"'),\n",
              " (6,\n",
              "  '-0.301*\"руб\" + 0.164*\"сбербанка\" + -0.154*\"рублей\" + 0.138*\"страхования\" + -0.130*\"сумму\" + 0.130*\"заявление\" + -0.128*\"платеж\" + -0.122*\"сумма\" + 0.117*\"сбербанк\" + -0.106*\"тыс\"'),\n",
              " (7,\n",
              "  '-0.286*\"банкомат\" + -0.268*\"деньги\" + 0.261*\"карты\" + 0.184*\"карта\" + 0.165*\"карте\" + -0.141*\"выдал\" + -0.140*\"вклад\" + 0.121*\"карту\" + -0.115*\"денег\" + -0.114*\"чек\"'),\n",
              " (8,\n",
              "  '-0.360*\"киви\" + -0.243*\"кошелек\" + -0.180*\"qiwi\" + 0.144*\"г\" + 0.143*\"вклад\" + -0.143*\"поддержки\" + 0.138*\"вклада\" + 0.120*\"заявление\" + 0.114*\"карта\" + 0.105*\"карту\"'),\n",
              " (9,\n",
              "  '-0.367*\"банкомат\" + -0.274*\"альфа\" + 0.176*\"киви\" + -0.152*\"выдал\" + -0.122*\"чек\" + 0.120*\"вклада\" + -0.120*\"страхования\" + 0.114*\"вклад\" + 0.113*\"кошелек\" + -0.105*\"банкомата\"')]"
            ]
          },
          "metadata": {},
          "execution_count": 27
        }
      ]
    },
    {
      "cell_type": "code",
      "source": [
        "lsi = lsimodel.LsiModel(corpus=corpus_tfidf, id2word=dictionary, num_topics=20)"
      ],
      "metadata": {
        "id": "8Setd_de3VQm"
      },
      "execution_count": null,
      "outputs": []
    },
    {
      "cell_type": "code",
      "source": [
        "lsi.show_topics()"
      ],
      "metadata": {
        "colab": {
          "base_uri": "https://localhost:8080/"
        },
        "id": "Sp7XcwNx3dPq",
        "outputId": "dffb1f04-c520-4502-b528-b78e53647386"
      },
      "execution_count": null,
      "outputs": [
        {
          "output_type": "execute_result",
          "data": {
            "text/plain": [
              "[(0,\n",
              "  '0.118*\"деньги\" + 0.114*\"карты\" + 0.112*\"карту\" + 0.102*\"кредит\" + 0.099*\"г\" + 0.099*\"банк\" + 0.095*\"заявление\" + 0.094*\"банка\" + 0.091*\"это\" + 0.090*\"руб\"'),\n",
              " (1,\n",
              "  '-0.310*\"звонки\" + -0.236*\"номер\" + -0.189*\"данных\" + -0.181*\"персональных\" + -0.180*\"телефона\" + -0.173*\"поступают\" + -0.166*\"базы\" + -0.156*\"удалить\" + -0.147*\"обработку\" + -0.143*\"согласия\"'),\n",
              " (2,\n",
              "  '-0.270*\"кредит\" + -0.241*\"кредита\" + 0.186*\"карты\" + -0.176*\"страхования\" + 0.173*\"карту\" + -0.161*\"страховки\" + 0.146*\"деньги\" + -0.146*\"договор\" + -0.142*\"договора\" + 0.136*\"банкомат\"'),\n",
              " (3,\n",
              "  '-0.355*\"вклад\" + -0.319*\"вклада\" + 0.179*\"руб\" + 0.126*\"рублей\" + 0.110*\"г\" + 0.109*\"банкомат\" + -0.102*\"очереди\" + 0.101*\"заявление\" + 0.098*\"средства\" + 0.096*\"сбербанка\"'),\n",
              " (4,\n",
              "  '0.276*\"вклада\" + 0.179*\"вклад\" + 0.157*\"рф\" + 0.156*\"г\" + 0.144*\"договора\" + 0.143*\"средств\" + 0.125*\"денежных\" + 0.123*\"средства\" + 0.108*\"денежные\" + 0.106*\"персональных\"'),\n",
              " (5,\n",
              "  '-0.175*\"р\" + -0.174*\"обязательствам\" + -0.148*\"страховки\" + -0.141*\"обработку\" + -0.137*\"копия\" + -0.134*\"направлена\" + -0.134*\"кредит\" + -0.130*\"вернуть\" + -0.121*\"удалить\" + -0.119*\"страхования\"'),\n",
              " (6,\n",
              "  '0.303*\"руб\" + -0.169*\"сбербанка\" + 0.150*\"рублей\" + -0.134*\"заявление\" + -0.131*\"страхования\" + 0.129*\"платеж\" + 0.128*\"сумму\" + -0.122*\"сбербанк\" + 0.121*\"сумма\" + 0.115*\"тыс\"'),\n",
              " (7,\n",
              "  '-0.283*\"банкомат\" + -0.268*\"деньги\" + 0.256*\"карты\" + 0.188*\"карта\" + 0.164*\"карте\" + -0.143*\"вклад\" + -0.139*\"выдал\" + 0.121*\"карту\" + -0.117*\"дней\" + -0.115*\"чек\"'),\n",
              " (8,\n",
              "  '0.362*\"киви\" + 0.235*\"кошелек\" + 0.177*\"qiwi\" + -0.158*\"г\" + -0.147*\"вклада\" + -0.145*\"вклад\" + 0.138*\"поддержки\" + -0.125*\"карта\" + -0.117*\"заявление\" + -0.106*\"карту\"'),\n",
              " (9,\n",
              "  '-0.360*\"банкомат\" + -0.273*\"альфа\" + 0.180*\"киви\" + -0.154*\"выдал\" + 0.131*\"кошелек\" + -0.127*\"страхования\" + -0.119*\"чек\" + 0.119*\"вклада\" + 0.117*\"вклад\" + -0.105*\"банкомате\"'),\n",
              " (10,\n",
              "  '0.261*\"руб\" + 0.217*\"номер\" + 0.213*\"страхования\" + 0.182*\"смс\" + 0.177*\"страховки\" + 0.151*\"телефона\" + 0.147*\"вклада\" + -0.130*\"г\" + 0.106*\"вклад\" + 0.104*\"тыс\"'),\n",
              " (11,\n",
              "  '0.297*\"альфа\" + -0.259*\"сбербанка\" + -0.230*\"сбербанк\" + -0.211*\"руб\" + 0.158*\"дней\" + 0.142*\"карта\" + 0.138*\"карту\" + -0.107*\"онлайн\" + -0.105*\"очереди\" + 0.097*\"срок\"'),\n",
              " (12,\n",
              "  '-0.549*\"руб\" + 0.265*\"рублей\" + 0.165*\"деньги\" + -0.150*\"альфа\" + 0.146*\"сч\" + 0.127*\"р\" + -0.121*\"г\" + -0.120*\"тыс\" + 0.110*\"сбербанк\" + -0.108*\"заявку\"'),\n",
              " (13,\n",
              "  '0.281*\"руб\" + -0.274*\"смс\" + 0.247*\"киви\" + 0.211*\"карту\" + 0.161*\"карта\" + 0.157*\"тыс\" + 0.155*\"кошелек\" + -0.147*\"р\" + 0.126*\"карты\" + -0.114*\"втб\"'),\n",
              " (14,\n",
              "  '0.287*\"сч\" + 0.179*\"руб\" + -0.131*\"очень\" + 0.131*\"евро\" + 0.131*\"альфа\" + -0.126*\"вклада\" + 0.124*\"т\" + -0.121*\"банкомат\" + -0.114*\"смс\" + -0.114*\"спасибо\"'),\n",
              " (15,\n",
              "  '0.211*\"счет\" + -0.184*\"рф\" + 0.175*\"счета\" + -0.156*\"ст\" + 0.153*\"альфа\" + -0.147*\"смс\" + -0.141*\"банкомат\" + -0.135*\"персональных\" + 0.127*\"средства\" + -0.126*\"данных\"'),\n",
              " (16,\n",
              "  '0.306*\"р\" + -0.295*\"альфа\" + 0.199*\"сч\" + -0.175*\"сбербанк\" + -0.174*\"счет\" + -0.157*\"деньги\" + 0.155*\"банкомат\" + 0.143*\"г\" + 0.139*\"т\" + -0.139*\"счета\"'),\n",
              " (17,\n",
              "  '0.515*\"альфа\" + 0.334*\"р\" + 0.186*\"г\" + -0.154*\"евро\" + 0.145*\"сч\" + 0.113*\"вклад\" + -0.107*\"данных\" + 0.107*\"сбербанка\" + -0.104*\"рублей\" + -0.101*\"персональных\"'),\n",
              " (18,\n",
              "  '-0.310*\"альфа\" + -0.236*\"рублей\" + -0.163*\"платеж\" + 0.162*\"руб\" + 0.158*\"сч\" + 0.157*\"втб\" + -0.142*\"киви\" + -0.128*\"евро\" + 0.122*\"кредит\" + 0.117*\"дней\"'),\n",
              " (19,\n",
              "  '-0.468*\"р\" + 0.304*\"рублей\" + 0.214*\"сч\" + -0.194*\"счет\" + -0.139*\"счета\" + -0.122*\"втб\" + 0.121*\"вс\" + 0.114*\"евро\" + 0.108*\"альфа\" + 0.106*\"марта\"')]"
            ]
          },
          "metadata": {},
          "execution_count": 29
        }
      ]
    },
    {
      "cell_type": "markdown",
      "source": [
        "From these topics, I noticed that discussions around Sberbank often centered on personal banking and loans, whereas VTB was frequently associated with investments and trading. This highlights the different market focuses and customer interactions of these banks."
      ],
      "metadata": {
        "id": "JKMKBM_r32-Q"
      }
    }
  ]
}