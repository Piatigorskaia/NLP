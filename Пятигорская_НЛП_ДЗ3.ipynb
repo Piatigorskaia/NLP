{
  "nbformat": 4,
  "nbformat_minor": 0,
  "metadata": {
    "colab": {
      "provenance": []
    },
    "kernelspec": {
      "name": "python3",
      "display_name": "Python 3"
    },
    "language_info": {
      "name": "python"
    }
  },
  "cells": [
    {
      "cell_type": "code",
      "execution_count": null,
      "metadata": {
        "id": "rkEmxkc3zfqx"
      },
      "outputs": [],
      "source": [
        "import json\n",
        "import bz2\n",
        "import regex\n",
        "from tqdm import tqdm\n",
        "from scipy import sparse"
      ]
    },
    {
      "cell_type": "code",
      "source": [
        "import pandas as pd\n",
        "import numpy as np\n",
        "import nltk\n",
        "import matplotlib.pyplot as plt\n",
        "import seaborn as sns\n",
        "%matplotlib inline\n",
        "%pylab inline"
      ],
      "metadata": {
        "colab": {
          "base_uri": "https://localhost:8080/"
        },
        "id": "RKuTiPuM2c2o",
        "outputId": "ee9712ff-dc79-4db7-eb14-091840ccd0f7"
      },
      "execution_count": null,
      "outputs": [
        {
          "output_type": "stream",
          "name": "stdout",
          "text": [
            "Populating the interactive namespace from numpy and matplotlib\n"
          ]
        }
      ]
    },
    {
      "cell_type": "markdown",
      "source": [
        "Задание 1: составить словари для классификации по тональности.\n",
        "Данные для задания — отзывы\n",
        "на банки, собранные с нескольких сайтов рунета. Отзывы могут быть как положительными\n",
        "\n",
        "— оценка 5, так и отрицательными — оценка 1."
      ],
      "metadata": {
        "id": "-l6rplbTLZl4"
      }
    },
    {
      "cell_type": "code",
      "source": [
        "responses = []\n",
        "with bz2.BZ2File('banki_responses.json.bz2', 'r') as thefile:\n",
        "    for row in tqdm(thefile):\n",
        "        resp = json.loads(row)\n",
        "        if not resp['rating_not_checked'] and (len(resp['text'].split()) > 0):\n",
        "            responses.append(resp)"
      ],
      "metadata": {
        "colab": {
          "base_uri": "https://localhost:8080/"
        },
        "id": "VP-wIEq42f5a",
        "outputId": "0b1fa170-0bc4-4aec-cd14-cc514971c466"
      },
      "execution_count": null,
      "outputs": [
        {
          "output_type": "stream",
          "name": "stderr",
          "text": [
            "201030it [02:28, 1354.77it/s]\n"
          ]
        }
      ]
    },
    {
      "cell_type": "code",
      "source": [
        "responses[99]"
      ],
      "metadata": {
        "colab": {
          "base_uri": "https://localhost:8080/"
        },
        "id": "doYshlqb2kLL",
        "outputId": "c50f316d-f5ee-4baf-87e9-a750a9de633a"
      },
      "execution_count": null,
      "outputs": [
        {
          "output_type": "execute_result",
          "data": {
            "text/plain": [
              "{'city': 'г. Саратов',\n",
              " 'rating_not_checked': False,\n",
              " 'title': 'Карта ко вкладу',\n",
              " 'num_comments': 0,\n",
              " 'bank_license': 'лицензия № 880',\n",
              " 'author': 'ronnichka',\n",
              " 'bank_name': 'Югра',\n",
              " 'datetime': '2015-06-03 20:56:57',\n",
              " 'text': 'Здравствуйте! Хотела написать, что мне месяц не выдают карту ко вкладу, ссылаясь на \"нам же их из Самары везут\" (на секундочку 5 часов езды от нашего города). Но! Прочитала, что людям 3,5 месяцев не выдают карту, и поняла, что у меня все хорошо, пока что. И подарок мне дали, и кулер в отделении есть. Так что я, конечно, готова ждать. Правда хотелось бы не очень долго.',\n",
              " 'rating_grade': 3}"
            ]
          },
          "metadata": {},
          "execution_count": 4
        }
      ]
    },
    {
      "cell_type": "code",
      "source": [
        "df = pd.json_normalize(responses)[['city', 'bank_name', 'author', 'datetime', 'rating_grade', 'title', 'text', 'bank_license', 'num_comments', 'rating_not_checked']]"
      ],
      "metadata": {
        "id": "56w4Jkm43Oo4"
      },
      "execution_count": null,
      "outputs": []
    },
    {
      "cell_type": "code",
      "source": [
        "df.head()"
      ],
      "metadata": {
        "colab": {
          "base_uri": "https://localhost:8080/",
          "height": 501
        },
        "id": "d6Bwqbdm3ZuG",
        "outputId": "ed26fd85-739d-42c8-f9da-b8104d5ffb9c"
      },
      "execution_count": null,
      "outputs": [
        {
          "output_type": "execute_result",
          "data": {
            "text/plain": [
              "             city        bank_name       author             datetime  \\\n",
              "0       г. Москва          Бинбанк       uhnov1  2015-06-08 12:50:54   \n",
              "1  г. Новосибирск  Сбербанк России       Foryou  2015-06-08 11:09:57   \n",
              "2       г. Москва          Бинбанк   Vladimir84  2015-06-05 20:14:28   \n",
              "3   г. Ставрополь  Сбербанк России       643609  2015-06-05 13:51:01   \n",
              "4    г. Челябинск         ОТП Банк  anfisa-2003  2015-06-05 10:58:12   \n",
              "\n",
              "   rating_grade                                              title  \\\n",
              "0           NaN                                             Жалоба   \n",
              "1           NaN      Не могу пользоваться услугой Сбербанк он-лайн   \n",
              "2           NaN                    Двойное списание за один товар.   \n",
              "3           NaN  Меняют проценты комиссии  не предупредив и не ...   \n",
              "4           NaN             Верните денежные средства за страховку   \n",
              "\n",
              "                                                text     bank_license  \\\n",
              "0  Добрый день! Я не являюсь клиентом банка и пор...  лицензия № 2562   \n",
              "1  Доброго дня! Являюсь держателем зарплатной кар...  лицензия № 1481   \n",
              "2  Здравствуйте!  Дублирую свое заявление от 03.0...  лицензия № 2562   \n",
              "3  Добрый день!! Я открыл расчетный счет в СберБа...  лицензия № 1481   \n",
              "4  04.03.2015 г. взяла кредит в вашем банке, заяв...  лицензия № 2766   \n",
              "\n",
              "   num_comments  rating_not_checked  \n",
              "0             0               False  \n",
              "1             0               False  \n",
              "2             1               False  \n",
              "3             2               False  \n",
              "4             1               False  "
            ],
            "text/html": [
              "\n",
              "  <div id=\"df-e142ddeb-f2a2-4159-871e-29494dd08593\" class=\"colab-df-container\">\n",
              "    <div>\n",
              "<style scoped>\n",
              "    .dataframe tbody tr th:only-of-type {\n",
              "        vertical-align: middle;\n",
              "    }\n",
              "\n",
              "    .dataframe tbody tr th {\n",
              "        vertical-align: top;\n",
              "    }\n",
              "\n",
              "    .dataframe thead th {\n",
              "        text-align: right;\n",
              "    }\n",
              "</style>\n",
              "<table border=\"1\" class=\"dataframe\">\n",
              "  <thead>\n",
              "    <tr style=\"text-align: right;\">\n",
              "      <th></th>\n",
              "      <th>city</th>\n",
              "      <th>bank_name</th>\n",
              "      <th>author</th>\n",
              "      <th>datetime</th>\n",
              "      <th>rating_grade</th>\n",
              "      <th>title</th>\n",
              "      <th>text</th>\n",
              "      <th>bank_license</th>\n",
              "      <th>num_comments</th>\n",
              "      <th>rating_not_checked</th>\n",
              "    </tr>\n",
              "  </thead>\n",
              "  <tbody>\n",
              "    <tr>\n",
              "      <th>0</th>\n",
              "      <td>г. Москва</td>\n",
              "      <td>Бинбанк</td>\n",
              "      <td>uhnov1</td>\n",
              "      <td>2015-06-08 12:50:54</td>\n",
              "      <td>NaN</td>\n",
              "      <td>Жалоба</td>\n",
              "      <td>Добрый день! Я не являюсь клиентом банка и пор...</td>\n",
              "      <td>лицензия № 2562</td>\n",
              "      <td>0</td>\n",
              "      <td>False</td>\n",
              "    </tr>\n",
              "    <tr>\n",
              "      <th>1</th>\n",
              "      <td>г. Новосибирск</td>\n",
              "      <td>Сбербанк России</td>\n",
              "      <td>Foryou</td>\n",
              "      <td>2015-06-08 11:09:57</td>\n",
              "      <td>NaN</td>\n",
              "      <td>Не могу пользоваться услугой Сбербанк он-лайн</td>\n",
              "      <td>Доброго дня! Являюсь держателем зарплатной кар...</td>\n",
              "      <td>лицензия № 1481</td>\n",
              "      <td>0</td>\n",
              "      <td>False</td>\n",
              "    </tr>\n",
              "    <tr>\n",
              "      <th>2</th>\n",
              "      <td>г. Москва</td>\n",
              "      <td>Бинбанк</td>\n",
              "      <td>Vladimir84</td>\n",
              "      <td>2015-06-05 20:14:28</td>\n",
              "      <td>NaN</td>\n",
              "      <td>Двойное списание за один товар.</td>\n",
              "      <td>Здравствуйте!  Дублирую свое заявление от 03.0...</td>\n",
              "      <td>лицензия № 2562</td>\n",
              "      <td>1</td>\n",
              "      <td>False</td>\n",
              "    </tr>\n",
              "    <tr>\n",
              "      <th>3</th>\n",
              "      <td>г. Ставрополь</td>\n",
              "      <td>Сбербанк России</td>\n",
              "      <td>643609</td>\n",
              "      <td>2015-06-05 13:51:01</td>\n",
              "      <td>NaN</td>\n",
              "      <td>Меняют проценты комиссии  не предупредив и не ...</td>\n",
              "      <td>Добрый день!! Я открыл расчетный счет в СберБа...</td>\n",
              "      <td>лицензия № 1481</td>\n",
              "      <td>2</td>\n",
              "      <td>False</td>\n",
              "    </tr>\n",
              "    <tr>\n",
              "      <th>4</th>\n",
              "      <td>г. Челябинск</td>\n",
              "      <td>ОТП Банк</td>\n",
              "      <td>anfisa-2003</td>\n",
              "      <td>2015-06-05 10:58:12</td>\n",
              "      <td>NaN</td>\n",
              "      <td>Верните денежные средства за страховку</td>\n",
              "      <td>04.03.2015 г. взяла кредит в вашем банке, заяв...</td>\n",
              "      <td>лицензия № 2766</td>\n",
              "      <td>1</td>\n",
              "      <td>False</td>\n",
              "    </tr>\n",
              "  </tbody>\n",
              "</table>\n",
              "</div>\n",
              "    <div class=\"colab-df-buttons\">\n",
              "\n",
              "  <div class=\"colab-df-container\">\n",
              "    <button class=\"colab-df-convert\" onclick=\"convertToInteractive('df-e142ddeb-f2a2-4159-871e-29494dd08593')\"\n",
              "            title=\"Convert this dataframe to an interactive table.\"\n",
              "            style=\"display:none;\">\n",
              "\n",
              "  <svg xmlns=\"http://www.w3.org/2000/svg\" height=\"24px\" viewBox=\"0 -960 960 960\">\n",
              "    <path d=\"M120-120v-720h720v720H120Zm60-500h600v-160H180v160Zm220 220h160v-160H400v160Zm0 220h160v-160H400v160ZM180-400h160v-160H180v160Zm440 0h160v-160H620v160ZM180-180h160v-160H180v160Zm440 0h160v-160H620v160Z\"/>\n",
              "  </svg>\n",
              "    </button>\n",
              "\n",
              "  <style>\n",
              "    .colab-df-container {\n",
              "      display:flex;\n",
              "      gap: 12px;\n",
              "    }\n",
              "\n",
              "    .colab-df-convert {\n",
              "      background-color: #E8F0FE;\n",
              "      border: none;\n",
              "      border-radius: 50%;\n",
              "      cursor: pointer;\n",
              "      display: none;\n",
              "      fill: #1967D2;\n",
              "      height: 32px;\n",
              "      padding: 0 0 0 0;\n",
              "      width: 32px;\n",
              "    }\n",
              "\n",
              "    .colab-df-convert:hover {\n",
              "      background-color: #E2EBFA;\n",
              "      box-shadow: 0px 1px 2px rgba(60, 64, 67, 0.3), 0px 1px 3px 1px rgba(60, 64, 67, 0.15);\n",
              "      fill: #174EA6;\n",
              "    }\n",
              "\n",
              "    .colab-df-buttons div {\n",
              "      margin-bottom: 4px;\n",
              "    }\n",
              "\n",
              "    [theme=dark] .colab-df-convert {\n",
              "      background-color: #3B4455;\n",
              "      fill: #D2E3FC;\n",
              "    }\n",
              "\n",
              "    [theme=dark] .colab-df-convert:hover {\n",
              "      background-color: #434B5C;\n",
              "      box-shadow: 0px 1px 3px 1px rgba(0, 0, 0, 0.15);\n",
              "      filter: drop-shadow(0px 1px 2px rgba(0, 0, 0, 0.3));\n",
              "      fill: #FFFFFF;\n",
              "    }\n",
              "  </style>\n",
              "\n",
              "    <script>\n",
              "      const buttonEl =\n",
              "        document.querySelector('#df-e142ddeb-f2a2-4159-871e-29494dd08593 button.colab-df-convert');\n",
              "      buttonEl.style.display =\n",
              "        google.colab.kernel.accessAllowed ? 'block' : 'none';\n",
              "\n",
              "      async function convertToInteractive(key) {\n",
              "        const element = document.querySelector('#df-e142ddeb-f2a2-4159-871e-29494dd08593');\n",
              "        const dataTable =\n",
              "          await google.colab.kernel.invokeFunction('convertToInteractive',\n",
              "                                                    [key], {});\n",
              "        if (!dataTable) return;\n",
              "\n",
              "        const docLinkHtml = 'Like what you see? Visit the ' +\n",
              "          '<a target=\"_blank\" href=https://colab.research.google.com/notebooks/data_table.ipynb>data table notebook</a>'\n",
              "          + ' to learn more about interactive tables.';\n",
              "        element.innerHTML = '';\n",
              "        dataTable['output_type'] = 'display_data';\n",
              "        await google.colab.output.renderOutput(dataTable, element);\n",
              "        const docLink = document.createElement('div');\n",
              "        docLink.innerHTML = docLinkHtml;\n",
              "        element.appendChild(docLink);\n",
              "      }\n",
              "    </script>\n",
              "  </div>\n",
              "\n",
              "\n",
              "<div id=\"df-c9d54362-e4af-4718-aa40-c8c055fd26e2\">\n",
              "  <button class=\"colab-df-quickchart\" onclick=\"quickchart('df-c9d54362-e4af-4718-aa40-c8c055fd26e2')\"\n",
              "            title=\"Suggest charts\"\n",
              "            style=\"display:none;\">\n",
              "\n",
              "<svg xmlns=\"http://www.w3.org/2000/svg\" height=\"24px\"viewBox=\"0 0 24 24\"\n",
              "     width=\"24px\">\n",
              "    <g>\n",
              "        <path d=\"M19 3H5c-1.1 0-2 .9-2 2v14c0 1.1.9 2 2 2h14c1.1 0 2-.9 2-2V5c0-1.1-.9-2-2-2zM9 17H7v-7h2v7zm4 0h-2V7h2v10zm4 0h-2v-4h2v4z\"/>\n",
              "    </g>\n",
              "</svg>\n",
              "  </button>\n",
              "\n",
              "<style>\n",
              "  .colab-df-quickchart {\n",
              "      --bg-color: #E8F0FE;\n",
              "      --fill-color: #1967D2;\n",
              "      --hover-bg-color: #E2EBFA;\n",
              "      --hover-fill-color: #174EA6;\n",
              "      --disabled-fill-color: #AAA;\n",
              "      --disabled-bg-color: #DDD;\n",
              "  }\n",
              "\n",
              "  [theme=dark] .colab-df-quickchart {\n",
              "      --bg-color: #3B4455;\n",
              "      --fill-color: #D2E3FC;\n",
              "      --hover-bg-color: #434B5C;\n",
              "      --hover-fill-color: #FFFFFF;\n",
              "      --disabled-bg-color: #3B4455;\n",
              "      --disabled-fill-color: #666;\n",
              "  }\n",
              "\n",
              "  .colab-df-quickchart {\n",
              "    background-color: var(--bg-color);\n",
              "    border: none;\n",
              "    border-radius: 50%;\n",
              "    cursor: pointer;\n",
              "    display: none;\n",
              "    fill: var(--fill-color);\n",
              "    height: 32px;\n",
              "    padding: 0;\n",
              "    width: 32px;\n",
              "  }\n",
              "\n",
              "  .colab-df-quickchart:hover {\n",
              "    background-color: var(--hover-bg-color);\n",
              "    box-shadow: 0 1px 2px rgba(60, 64, 67, 0.3), 0 1px 3px 1px rgba(60, 64, 67, 0.15);\n",
              "    fill: var(--button-hover-fill-color);\n",
              "  }\n",
              "\n",
              "  .colab-df-quickchart-complete:disabled,\n",
              "  .colab-df-quickchart-complete:disabled:hover {\n",
              "    background-color: var(--disabled-bg-color);\n",
              "    fill: var(--disabled-fill-color);\n",
              "    box-shadow: none;\n",
              "  }\n",
              "\n",
              "  .colab-df-spinner {\n",
              "    border: 2px solid var(--fill-color);\n",
              "    border-color: transparent;\n",
              "    border-bottom-color: var(--fill-color);\n",
              "    animation:\n",
              "      spin 1s steps(1) infinite;\n",
              "  }\n",
              "\n",
              "  @keyframes spin {\n",
              "    0% {\n",
              "      border-color: transparent;\n",
              "      border-bottom-color: var(--fill-color);\n",
              "      border-left-color: var(--fill-color);\n",
              "    }\n",
              "    20% {\n",
              "      border-color: transparent;\n",
              "      border-left-color: var(--fill-color);\n",
              "      border-top-color: var(--fill-color);\n",
              "    }\n",
              "    30% {\n",
              "      border-color: transparent;\n",
              "      border-left-color: var(--fill-color);\n",
              "      border-top-color: var(--fill-color);\n",
              "      border-right-color: var(--fill-color);\n",
              "    }\n",
              "    40% {\n",
              "      border-color: transparent;\n",
              "      border-right-color: var(--fill-color);\n",
              "      border-top-color: var(--fill-color);\n",
              "    }\n",
              "    60% {\n",
              "      border-color: transparent;\n",
              "      border-right-color: var(--fill-color);\n",
              "    }\n",
              "    80% {\n",
              "      border-color: transparent;\n",
              "      border-right-color: var(--fill-color);\n",
              "      border-bottom-color: var(--fill-color);\n",
              "    }\n",
              "    90% {\n",
              "      border-color: transparent;\n",
              "      border-bottom-color: var(--fill-color);\n",
              "    }\n",
              "  }\n",
              "</style>\n",
              "\n",
              "  <script>\n",
              "    async function quickchart(key) {\n",
              "      const quickchartButtonEl =\n",
              "        document.querySelector('#' + key + ' button');\n",
              "      quickchartButtonEl.disabled = true;  // To prevent multiple clicks.\n",
              "      quickchartButtonEl.classList.add('colab-df-spinner');\n",
              "      try {\n",
              "        const charts = await google.colab.kernel.invokeFunction(\n",
              "            'suggestCharts', [key], {});\n",
              "      } catch (error) {\n",
              "        console.error('Error during call to suggestCharts:', error);\n",
              "      }\n",
              "      quickchartButtonEl.classList.remove('colab-df-spinner');\n",
              "      quickchartButtonEl.classList.add('colab-df-quickchart-complete');\n",
              "    }\n",
              "    (() => {\n",
              "      let quickchartButtonEl =\n",
              "        document.querySelector('#df-c9d54362-e4af-4718-aa40-c8c055fd26e2 button');\n",
              "      quickchartButtonEl.style.display =\n",
              "        google.colab.kernel.accessAllowed ? 'block' : 'none';\n",
              "    })();\n",
              "  </script>\n",
              "</div>\n",
              "\n",
              "    </div>\n",
              "  </div>\n"
            ],
            "application/vnd.google.colaboratory.intrinsic+json": {
              "type": "dataframe",
              "variable_name": "df"
            }
          },
          "metadata": {},
          "execution_count": 6
        }
      ]
    },
    {
      "cell_type": "markdown",
      "source": [
        "1.1.Разбейте всю коллекцию отзывов на предложения. Лемматизируйте все слова.\n",
        "Обучите по коллекции предложений word2vec"
      ],
      "metadata": {
        "id": "Ei0aOpb23eDH"
      }
    },
    {
      "cell_type": "code",
      "source": [
        "pip install pymorphy2 pymorphy2-dicts-ru"
      ],
      "metadata": {
        "colab": {
          "base_uri": "https://localhost:8080/"
        },
        "id": "DVTbvjT15GM7",
        "outputId": "19b07331-f849-4535-eb33-cd5b6374baf8"
      },
      "execution_count": null,
      "outputs": [
        {
          "output_type": "stream",
          "name": "stdout",
          "text": [
            "Collecting pymorphy2\n",
            "  Downloading pymorphy2-0.9.1-py3-none-any.whl.metadata (3.6 kB)\n",
            "Collecting pymorphy2-dicts-ru\n",
            "  Downloading pymorphy2_dicts_ru-2.4.417127.4579844-py2.py3-none-any.whl.metadata (2.1 kB)\n",
            "Collecting dawg-python>=0.7.1 (from pymorphy2)\n",
            "  Downloading DAWG_Python-0.7.2-py2.py3-none-any.whl.metadata (7.0 kB)\n",
            "Collecting docopt>=0.6 (from pymorphy2)\n",
            "  Downloading docopt-0.6.2.tar.gz (25 kB)\n",
            "  Preparing metadata (setup.py) ... \u001b[?25l\u001b[?25hdone\n",
            "Downloading pymorphy2-0.9.1-py3-none-any.whl (55 kB)\n",
            "\u001b[2K   \u001b[90m━━━━━━━━━━━━━━━━━━━━━━━━━━━━━━━━━━━━━━━━\u001b[0m \u001b[32m55.5/55.5 kB\u001b[0m \u001b[31m3.9 MB/s\u001b[0m eta \u001b[36m0:00:00\u001b[0m\n",
            "\u001b[?25hDownloading pymorphy2_dicts_ru-2.4.417127.4579844-py2.py3-none-any.whl (8.2 MB)\n",
            "\u001b[2K   \u001b[90m━━━━━━━━━━━━━━━━━━━━━━━━━━━━━━━━━━━━━━━━\u001b[0m \u001b[32m8.2/8.2 MB\u001b[0m \u001b[31m29.0 MB/s\u001b[0m eta \u001b[36m0:00:00\u001b[0m\n",
            "\u001b[?25hDownloading DAWG_Python-0.7.2-py2.py3-none-any.whl (11 kB)\n",
            "Building wheels for collected packages: docopt\n",
            "  Building wheel for docopt (setup.py) ... \u001b[?25l\u001b[?25hdone\n",
            "  Created wheel for docopt: filename=docopt-0.6.2-py2.py3-none-any.whl size=13704 sha256=023bc27e1d4cd7986a405d0eb841526a9c6fd5c2e08184c2733f6bec6828d60a\n",
            "  Stored in directory: /root/.cache/pip/wheels/fc/ab/d4/5da2067ac95b36618c629a5f93f809425700506f72c9732fac\n",
            "Successfully built docopt\n",
            "Installing collected packages: pymorphy2-dicts-ru, docopt, dawg-python, pymorphy2\n",
            "Successfully installed dawg-python-0.7.2 docopt-0.6.2 pymorphy2-0.9.1 pymorphy2-dicts-ru-2.4.417127.4579844\n"
          ]
        }
      ]
    },
    {
      "cell_type": "code",
      "source": [
        "import pymorphy2"
      ],
      "metadata": {
        "id": "XWEqpAKM5TQP"
      },
      "execution_count": null,
      "outputs": []
    },
    {
      "cell_type": "code",
      "source": [
        "from collections import Counter\n",
        "import nltk\n",
        "from nltk.corpus import stopwords\n",
        "from nltk.tokenize import word_tokenize, sent_tokenize\n",
        "from nltk.stem import WordNetLemmatizer\n",
        "from string import punctuation"
      ],
      "metadata": {
        "id": "vqtZUiXjAD3u"
      },
      "execution_count": null,
      "outputs": []
    },
    {
      "cell_type": "code",
      "source": [
        "nltk.download('punkt')\n",
        "nltk.download('stopwords')\n",
        "nltk.download('wordnet')"
      ],
      "metadata": {
        "colab": {
          "base_uri": "https://localhost:8080/"
        },
        "id": "TAzCDMklAKXL",
        "outputId": "f7536b42-1af5-4365-e7de-93aebcf8cc15"
      },
      "execution_count": null,
      "outputs": [
        {
          "output_type": "stream",
          "name": "stderr",
          "text": [
            "[nltk_data] Downloading package punkt to /root/nltk_data...\n",
            "[nltk_data]   Package punkt is already up-to-date!\n",
            "[nltk_data] Downloading package stopwords to /root/nltk_data...\n",
            "[nltk_data]   Unzipping corpora/stopwords.zip.\n",
            "[nltk_data] Downloading package wordnet to /root/nltk_data...\n"
          ]
        },
        {
          "output_type": "execute_result",
          "data": {
            "text/plain": [
              "True"
            ]
          },
          "metadata": {},
          "execution_count": 17
        }
      ]
    },
    {
      "cell_type": "code",
      "source": [
        "stop_words = set(stopwords.words('russian'))\n",
        "lemmatizer = WordNetLemmatizer()"
      ],
      "metadata": {
        "id": "eS8b12RCASRk"
      },
      "execution_count": null,
      "outputs": []
    },
    {
      "cell_type": "code",
      "source": [
        "def preprocess_text(text):\n",
        "    text = re.sub(r'\\S*https?:\\S*', '', text)\n",
        "    text = re.sub(r'[^a-zA-Zа-яА-Я]', ' ', text)\n",
        "    text = text.lower()\n",
        "    text = text.translate(str.maketrans('', '', punctuation))\n",
        "    tokens = word_tokenize(text)\n",
        "    tokens = [lemmatizer.lemmatize(word) for word in tokens if word not in stop_words]\n",
        "\n",
        "    return ' '.join(tokens)"
      ],
      "metadata": {
        "id": "gev_L9flATNc"
      },
      "execution_count": null,
      "outputs": []
    },
    {
      "cell_type": "code",
      "source": [
        "df['processed_text'] = df['text'][:20000].apply(preprocess_text)"
      ],
      "metadata": {
        "id": "B7ztr62XAXwT"
      },
      "execution_count": null,
      "outputs": []
    },
    {
      "cell_type": "code",
      "source": [
        "df = df[df['processed_text'].apply(lambda x: isinstance(x, str))]"
      ],
      "metadata": {
        "id": "NpZEFnhAC9ua"
      },
      "execution_count": null,
      "outputs": []
    },
    {
      "cell_type": "code",
      "source": [
        "texts = df['processed_text'].tolist()"
      ],
      "metadata": {
        "id": "fFY8nRBDDfcX"
      },
      "execution_count": null,
      "outputs": []
    },
    {
      "cell_type": "code",
      "source": [
        "sentences = [sent_tokenize(text) for text in texts]"
      ],
      "metadata": {
        "id": "UOAX4wOzDj7D"
      },
      "execution_count": null,
      "outputs": []
    },
    {
      "cell_type": "code",
      "source": [
        "morph = pymorphy2.MorphAnalyzer()"
      ],
      "metadata": {
        "id": "1akSnWBgDtjR"
      },
      "execution_count": null,
      "outputs": []
    },
    {
      "cell_type": "code",
      "source": [
        "def lemmatize(text):\n",
        "    words = word_tokenize(text)\n",
        "    lemmas = [morph.parse(word)[0].normal_form for word in words]\n",
        "    return lemmas"
      ],
      "metadata": {
        "id": "Br02Zye3DzW7"
      },
      "execution_count": null,
      "outputs": []
    },
    {
      "cell_type": "code",
      "source": [
        "lemmatized_sentences = [[lemmatize(sentence) for sentence in text] for text in sentences]"
      ],
      "metadata": {
        "id": "2dwyXIGDD2qe"
      },
      "execution_count": null,
      "outputs": []
    },
    {
      "cell_type": "code",
      "source": [
        "from gensim.models import Word2Vec"
      ],
      "metadata": {
        "id": "qFIY-EiiGXQM"
      },
      "execution_count": null,
      "outputs": []
    },
    {
      "cell_type": "code",
      "source": [
        "flat_sentences = [sentence for text in lemmatized_sentences for sentence in text]"
      ],
      "metadata": {
        "id": "VBim2yzFGcZQ"
      },
      "execution_count": null,
      "outputs": []
    },
    {
      "cell_type": "code",
      "source": [
        "model = Word2Vec(sentences=flat_sentences)"
      ],
      "metadata": {
        "id": "pm0vcDfJGfr_"
      },
      "execution_count": null,
      "outputs": []
    },
    {
      "cell_type": "markdown",
      "source": [
        "1.2.Приведите несколько удачных и неудачных примеров решения стандартных\n",
        "текстов для word2vec:\n",
        "\n",
        "тест на определение ближайших слов\n",
        "тест на аналогии (мужчина — король : женщина — королева)\n",
        "тест на определение лишнего слова"
      ],
      "metadata": {
        "id": "Rla5u4DyG1he"
      }
    },
    {
      "cell_type": "code",
      "source": [
        "model.wv.most_similar('деньга')"
      ],
      "metadata": {
        "colab": {
          "base_uri": "https://localhost:8080/"
        },
        "id": "ASmpfV3tG3ZH",
        "outputId": "97e79b36-bbe1-46b4-d362-2e2bd04c1a11"
      },
      "execution_count": null,
      "outputs": [
        {
          "output_type": "execute_result",
          "data": {
            "text/plain": [
              "[('денежка', 0.6780217289924622),\n",
              " ('обратно', 0.6681987047195435),\n",
              " ('дс', 0.6143943667411804),\n",
              " ('наличка', 0.5961489677429199),\n",
              " ('средство', 0.5910510420799255),\n",
              " ('наличность', 0.5493887662887573),\n",
              " ('благополучно', 0.5108023285865784),\n",
              " ('ошибочно', 0.47298067808151245),\n",
              " ('наличный', 0.4689817428588867),\n",
              " ('кровный', 0.4429622292518616)]"
            ]
          },
          "metadata": {},
          "execution_count": 41
        }
      ]
    },
    {
      "cell_type": "code",
      "source": [
        "model.wv.most_similar(positive=['женщина', 'клиент'], negative=['мужчина'])"
      ],
      "metadata": {
        "colab": {
          "base_uri": "https://localhost:8080/"
        },
        "id": "rCYpScC_HyDO",
        "outputId": "ff0f3ec7-bb6c-466f-9c91-920c2f943e71"
      },
      "execution_count": null,
      "outputs": [
        {
          "output_type": "execute_result",
          "data": {
            "text/plain": [
              "[('вкладчик', 0.6195392608642578),\n",
              " ('считать', 0.5207739472389221),\n",
              " ('репутация', 0.5104231238365173),\n",
              " ('многий', 0.5094162821769714),\n",
              " ('заёмщик', 0.49937909841537476),\n",
              " ('абсолютно', 0.4948076605796814),\n",
              " ('доверять', 0.4946754276752472),\n",
              " ('наплевательский', 0.4783172905445099),\n",
              " ('дорожить', 0.4734049141407013),\n",
              " ('клиентка', 0.46817052364349365)]"
            ]
          },
          "metadata": {},
          "execution_count": 43
        }
      ]
    },
    {
      "cell_type": "code",
      "source": [
        "model.wv.doesnt_match(\"клиент банк вклад кредит столица\".split())"
      ],
      "metadata": {
        "colab": {
          "base_uri": "https://localhost:8080/",
          "height": 36
        },
        "id": "Jv9f4JMAIdy8",
        "outputId": "6341e559-6f43-424c-a0eb-72f0e62a3c7b"
      },
      "execution_count": null,
      "outputs": [
        {
          "output_type": "execute_result",
          "data": {
            "text/plain": [
              "'столица'"
            ],
            "application/vnd.google.colaboratory.intrinsic+json": {
              "type": "string"
            }
          },
          "metadata": {},
          "execution_count": 44
        }
      ]
    },
    {
      "cell_type": "markdown",
      "source": [
        "1.3.Постройте несколько визуализаций:\n",
        "TSNE для топ-100 или топ-500 слов и найдите осмысленные кластеры слов\n",
        "задайте координаты для нового пространства следующим образом: одна ось описывает отношение «плохо — хорошо», вторая — «медленно — быстро», и найдите координаты названий банков в этих координатах"
      ],
      "metadata": {
        "id": "lnhBtBT4I6RJ"
      }
    },
    {
      "cell_type": "code",
      "source": [
        "from sklearn.manifold import TSNE"
      ],
      "metadata": {
        "id": "6yZGqsWbI8aS"
      },
      "execution_count": null,
      "outputs": []
    },
    {
      "cell_type": "code",
      "source": [
        "words = list(model.wv.index_to_key)[:100]\n",
        "vectors = model.wv[words]"
      ],
      "metadata": {
        "id": "E5a87mBPJE2U"
      },
      "execution_count": null,
      "outputs": []
    },
    {
      "cell_type": "code",
      "source": [
        "tsne = TSNE(n_components=2)\n",
        "vectors_tsne = tsne.fit_transform(vectors)"
      ],
      "metadata": {
        "id": "vmGeeGnFJM4u"
      },
      "execution_count": null,
      "outputs": []
    },
    {
      "cell_type": "code",
      "source": [
        "plt.figure(figsize=(16, 9))\n",
        "plt.scatter(vectors_tsne[:, 0], vectors_tsne[:, 1])\n",
        "\n",
        "for i, word in enumerate(words):\n",
        "    plt.annotate(word, xy=(vectors_tsne[i, 0], vectors_tsne[i, 1]))\n",
        "\n",
        "plt.show()"
      ],
      "metadata": {
        "colab": {
          "base_uri": "https://localhost:8080/",
          "height": 647
        },
        "id": "2ilrF3pnJRz1",
        "outputId": "5428db3a-cff1-4a02-9161-ad107100466c"
      },
      "execution_count": null,
      "outputs": [
        {
          "output_type": "display_data",
          "data": {
            "text/plain": [
              "<Figure size 1600x900 with 1 Axes>"
            ],
            "image/png": "[encoded data removed]"
          },
          "metadata": {}
        }
      ]
    },
    {
      "cell_type": "markdown",
      "source": [
        "Мы видим несколько осмысленных кластеров, например \"позвонить, звонить, звонок\" и \"вопрос, проблема, ситуация\"."
      ],
      "metadata": {
        "id": "3mB72gAWJ7fD"
      }
    },
    {
      "cell_type": "code",
      "source": [
        "def get_vector(word):\n",
        "    return model.wv[word] if word in model.wv else np.zeros(model.vector_size)"
      ],
      "metadata": {
        "id": "dzjE3EkAKHYz"
      },
      "execution_count": null,
      "outputs": []
    },
    {
      "cell_type": "code",
      "source": [
        "axis_good_bad = get_vector('хороший') - get_vector('плохой')\n",
        "axis_fast_slow = get_vector('быстрый') - get_vector('медленный')"
      ],
      "metadata": {
        "id": "re19srVQKX6I"
      },
      "execution_count": null,
      "outputs": []
    },
    {
      "cell_type": "code",
      "source": [
        "bank_coords = np.array([np.dot(get_vector('сбербанк'), axis_good_bad),\n",
        "                        np.dot(get_vector('сбербанк'), axis_fast_slow)])"
      ],
      "metadata": {
        "id": "GuqWdpP6KmD1"
      },
      "execution_count": null,
      "outputs": []
    },
    {
      "cell_type": "code",
      "source": [
        "bank_coords"
      ],
      "metadata": {
        "colab": {
          "base_uri": "https://localhost:8080/"
        },
        "id": "FyNyFUwyKoB9",
        "outputId": "dfa4a501-0b0f-42a0-bfec-767a1afee1f4"
      },
      "execution_count": null,
      "outputs": [
        {
          "output_type": "execute_result",
          "data": {
            "text/plain": [
              "array([10.1478615,  4.655506 ], dtype=float32)"
            ]
          },
          "metadata": {},
          "execution_count": 55
        }
      ]
    },
    {
      "cell_type": "markdown",
      "source": [
        "Задание 2: распространить метку."
      ],
      "metadata": {
        "id": "BwfaQWnhLcNJ"
      }
    },
    {
      "cell_type": "markdown",
      "source": [
        "2.1.Определите 5–8 позитивных слов (например, быстрый, удобный) и 5–8 негативных слов (например, очередь, медленно). Эти слова будут основной будущего оценочного словаря."
      ],
      "metadata": {
        "id": "HrH4JM6OLnBy"
      }
    },
    {
      "cell_type": "code",
      "source": [
        "positive_words = ['быстрый', 'удобный', 'хороший', 'отличный', 'прекрасный']\n",
        "negative_words = ['очередь', 'медленно', 'плохо', 'ужасный', 'неудобный']"
      ],
      "metadata": {
        "id": "3vKTNILJL0FF"
      },
      "execution_count": null,
      "outputs": []
    },
    {
      "cell_type": "markdown",
      "source": [
        "2.2.Пусть позитивному классу соответствует метка 1, негативному — -1\n",
        "Пометьте выбранные слова в лексическом графе соответствующими метками"
      ],
      "metadata": {
        "id": "e8XpND7KMHtb"
      }
    },
    {
      "cell_type": "code",
      "source": [
        "import networkx as nx"
      ],
      "metadata": {
        "id": "VwWmKbMBMKQq"
      },
      "execution_count": null,
      "outputs": []
    },
    {
      "cell_type": "code",
      "source": [
        "G = nx.Graph()"
      ],
      "metadata": {
        "id": "9lbaV0pMMPlF"
      },
      "execution_count": null,
      "outputs": []
    },
    {
      "cell_type": "code",
      "source": [
        "for word in model.wv.index_to_key:\n",
        "    G.add_node(word)"
      ],
      "metadata": {
        "id": "y4L3lu-3MRrh"
      },
      "execution_count": null,
      "outputs": []
    },
    {
      "cell_type": "code",
      "source": [
        "for word1 in model.wv.index_to_key:\n",
        "    for word2 in model.wv.most_similar(word1, topn=10):\n",
        "        G.add_edge(word1, word2[0])"
      ],
      "metadata": {
        "id": "bTVz4q3qMTzT"
      },
      "execution_count": null,
      "outputs": []
    },
    {
      "cell_type": "code",
      "source": [
        "for word in positive_words:\n",
        "    G.nodes[word]['label'] = 1\n",
        "for word in negative_words:\n",
        "    G.nodes[word]['label'] = -1"
      ],
      "metadata": {
        "id": "FSTJzVvLMZrp"
      },
      "execution_count": null,
      "outputs": []
    },
    {
      "cell_type": "markdown",
      "source": [
        "2.3.Запустите любой известный вам метод распространения метки (Label Propogation) в лексическом графе\n",
        "На выходе метода распространения ошибки должны быть новые слова, помеченные метками 1 и -1 — это и есть искомые оценочные слова"
      ],
      "metadata": {
        "id": "ueuAy69YMvtF"
      }
    },
    {
      "cell_type": "code",
      "source": [
        "from sklearn.semi_supervised import LabelPropagation"
      ],
      "metadata": {
        "id": "UGXE81m6M3co"
      },
      "execution_count": null,
      "outputs": []
    },
    {
      "cell_type": "code",
      "source": [
        "nodes = list(G.nodes)\n",
        "labels = np.array([G.nodes[node].get('label', 0) for node in nodes])"
      ],
      "metadata": {
        "id": "tnd8tmatNCkr"
      },
      "execution_count": null,
      "outputs": []
    },
    {
      "cell_type": "code",
      "source": [
        "label_prop_model = LabelPropagation()"
      ],
      "metadata": {
        "id": "u6svcOsiNFpO"
      },
      "execution_count": null,
      "outputs": []
    },
    {
      "cell_type": "code",
      "source": [
        "label_prop_model.fit(model.wv[nodes], labels)"
      ],
      "metadata": {
        "colab": {
          "base_uri": "https://localhost:8080/",
          "height": 74
        },
        "id": "eJj7jKhzNH1X",
        "outputId": "02c9ae52-f542-439e-e028-1848cb934110"
      },
      "execution_count": null,
      "outputs": [
        {
          "output_type": "execute_result",
          "data": {
            "text/plain": [
              "LabelPropagation()"
            ],
            "text/html": [
              "<style>#sk-container-id-1 {color: black;}#sk-container-id-1 pre{padding: 0;}#sk-container-id-1 div.sk-toggleable {background-color: white;}#sk-container-id-1 label.sk-toggleable__label {cursor: pointer;display: block;width: 100%;margin-bottom: 0;padding: 0.3em;box-sizing: border-box;text-align: center;}#sk-container-id-1 label.sk-toggleable__label-arrow:before {content: \"▸\";float: left;margin-right: 0.25em;color: #696969;}#sk-container-id-1 label.sk-toggleable__label-arrow:hover:before {color: black;}#sk-container-id-1 div.sk-estimator:hover label.sk-toggleable__label-arrow:before {color: black;}#sk-container-id-1 div.sk-toggleable__content {max-height: 0;max-width: 0;overflow: hidden;text-align: left;background-color: #f0f8ff;}#sk-container-id-1 div.sk-toggleable__content pre {margin: 0.2em;color: black;border-radius: 0.25em;background-color: #f0f8ff;}#sk-container-id-1 input.sk-toggleable__control:checked~div.sk-toggleable__content {max-height: 200px;max-width: 100%;overflow: auto;}#sk-container-id-1 input.sk-toggleable__control:checked~label.sk-toggleable__label-arrow:before {content: \"▾\";}#sk-container-id-1 div.sk-estimator input.sk-toggleable__control:checked~label.sk-toggleable__label {background-color: #d4ebff;}#sk-container-id-1 div.sk-label input.sk-toggleable__control:checked~label.sk-toggleable__label {background-color: #d4ebff;}#sk-container-id-1 input.sk-hidden--visually {border: 0;clip: rect(1px 1px 1px 1px);clip: rect(1px, 1px, 1px, 1px);height: 1px;margin: -1px;overflow: hidden;padding: 0;position: absolute;width: 1px;}#sk-container-id-1 div.sk-estimator {font-family: monospace;background-color: #f0f8ff;border: 1px dotted black;border-radius: 0.25em;box-sizing: border-box;margin-bottom: 0.5em;}#sk-container-id-1 div.sk-estimator:hover {background-color: #d4ebff;}#sk-container-id-1 div.sk-parallel-item::after {content: \"\";width: 100%;border-bottom: 1px solid gray;flex-grow: 1;}#sk-container-id-1 div.sk-label:hover label.sk-toggleable__label {background-color: #d4ebff;}#sk-container-id-1 div.sk-serial::before {content: \"\";position: absolute;border-left: 1px solid gray;box-sizing: border-box;top: 0;bottom: 0;left: 50%;z-index: 0;}#sk-container-id-1 div.sk-serial {display: flex;flex-direction: column;align-items: center;background-color: white;padding-right: 0.2em;padding-left: 0.2em;position: relative;}#sk-container-id-1 div.sk-item {position: relative;z-index: 1;}#sk-container-id-1 div.sk-parallel {display: flex;align-items: stretch;justify-content: center;background-color: white;position: relative;}#sk-container-id-1 div.sk-item::before, #sk-container-id-1 div.sk-parallel-item::before {content: \"\";position: absolute;border-left: 1px solid gray;box-sizing: border-box;top: 0;bottom: 0;left: 50%;z-index: -1;}#sk-container-id-1 div.sk-parallel-item {display: flex;flex-direction: column;z-index: 1;position: relative;background-color: white;}#sk-container-id-1 div.sk-parallel-item:first-child::after {align-self: flex-end;width: 50%;}#sk-container-id-1 div.sk-parallel-item:last-child::after {align-self: flex-start;width: 50%;}#sk-container-id-1 div.sk-parallel-item:only-child::after {width: 0;}#sk-container-id-1 div.sk-dashed-wrapped {border: 1px dashed gray;margin: 0 0.4em 0.5em 0.4em;box-sizing: border-box;padding-bottom: 0.4em;background-color: white;}#sk-container-id-1 div.sk-label label {font-family: monospace;font-weight: bold;display: inline-block;line-height: 1.2em;}#sk-container-id-1 div.sk-label-container {text-align: center;}#sk-container-id-1 div.sk-container {/* jupyter's `normalize.less` sets `[hidden] { display: none; }` but bootstrap.min.css set `[hidden] { display: none !important; }` so we also need the `!important` here to be able to override the default hidden behavior on the sphinx rendered scikit-learn.org. See: https://github.com/scikit-learn/scikit-learn/issues/21755 */display: inline-block !important;position: relative;}#sk-container-id-1 div.sk-text-repr-fallback {display: none;}</style><div id=\"sk-container-id-1\" class=\"sk-top-container\"><div class=\"sk-text-repr-fallback\"><pre>LabelPropagation()</pre><b>In a Jupyter environment, please rerun this cell to show the HTML representation or trust the notebook. <br />On GitHub, the HTML representation is unable to render, please try loading this page with nbviewer.org.</b></div><div class=\"sk-container\" hidden><div class=\"sk-item\"><div class=\"sk-estimator sk-toggleable\"><input class=\"sk-toggleable__control sk-hidden--visually\" id=\"sk-estimator-id-1\" type=\"checkbox\" checked><label for=\"sk-estimator-id-1\" class=\"sk-toggleable__label sk-toggleable__label-arrow\">LabelPropagation</label><div class=\"sk-toggleable__content\"><pre>LabelPropagation()</pre></div></div></div></div></div>"
            ]
          },
          "metadata": {},
          "execution_count": 67
        }
      ]
    },
    {
      "cell_type": "code",
      "source": [
        "new_labels = label_prop_model.transduction_"
      ],
      "metadata": {
        "id": "bSNLvFyANMdr"
      },
      "execution_count": null,
      "outputs": []
    },
    {
      "cell_type": "code",
      "source": [
        "labeled_words = {nodes[i]: new_labels[i] for i in range(len(nodes)) if new_labels[i] != 0}"
      ],
      "metadata": {
        "id": "MoUii5G_NqUj"
      },
      "execution_count": null,
      "outputs": []
    },
    {
      "cell_type": "code",
      "source": [
        "positive_labeled_words = [word for word, label in labeled_words.items() if label == 1]\n",
        "negative_labeled_words = [word for word, label in labeled_words.items() if label == -1]"
      ],
      "metadata": {
        "id": "tsEL7ihHNtTo"
      },
      "execution_count": null,
      "outputs": []
    },
    {
      "cell_type": "code",
      "source": [
        "positive_labeled_words"
      ],
      "metadata": {
        "colab": {
          "base_uri": "https://localhost:8080/"
        },
        "id": "6S3hmtOsNvP1",
        "outputId": "b3fba731-60fd-4bfa-c4cb-a62c5fe05ec1"
      },
      "execution_count": null,
      "outputs": [
        {
          "output_type": "execute_result",
          "data": {
            "text/plain": [
              "['хороший', 'удобный', 'быстрый', 'отличный', 'прекрасный']"
            ]
          },
          "metadata": {},
          "execution_count": 71
        }
      ]
    }
  ]
}